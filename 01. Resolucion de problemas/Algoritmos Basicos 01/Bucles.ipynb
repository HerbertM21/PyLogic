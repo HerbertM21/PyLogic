{
 "cells": [
  {
   "cell_type": "markdown",
   "metadata": {},
   "source": [
    "# **Algoritmos de problemas ciclicos**"
   ]
  },
  {
   "cell_type": "markdown",
   "metadata": {},
   "source": [
    "## **Algoritmo ciclico 01.**\n",
    "\n",
    "> Calcular el promedio de un alumno que tiene **7 calificaciones** en la materia de Diseño Estructurado de Algoritmos.\n"
   ]
  },
  {
   "cell_type": "code",
   "execution_count": null,
   "metadata": {},
   "outputs": [],
   "source": [
    "#Entrada de datos\n",
    "\n",
    "calificaciones = [] # [7.0, 2.0]\n",
    "suma_notas = 0 # 0\n",
    "for i in range(7): # 0 - 6\n",
    "    calificaciones.append(float(input(\"Ingrese la calificación: \"))) \n",
    "    # El bucle recorre y al mismo tiempo, se suma la nota que esta recorriendo a la variable suma_notas.\n",
    "    # 0 + [Nota numero 0] = total\n",
    "    # total + [Nota numero 1] = total\n",
    "    # total + [Nota numero 2] = total\n",
    "    suma_notas += calificaciones[i]  \n",
    "\n",
    "#Salida de datos\n",
    "if __name__ == \"__main__\":\n",
    "    print(\"El promedio de las notas es de: \", round((suma_notas / 7), 1)) # Uso de round para redondear a 1 decimal.\n"
   ]
  },
  {
   "cell_type": "markdown",
   "metadata": {},
   "source": [
    "## **Algoritmo ciclico 02.**\n",
    "\n",
    "> Leer 10 números y decir si es un número positivos"
   ]
  },
  {
   "cell_type": "code",
   "execution_count": null,
   "metadata": {},
   "outputs": [],
   "source": [
    "i = 0\n",
    "while i <= 10:\n",
    "    num = int(input(\"Ingrese el numero: \"))\n",
    "    if num > 0:\n",
    "        print(f\"{num} es un numero positivo\")\n",
    "    i += 1"
   ]
  },
  {
   "cell_type": "markdown",
   "metadata": {},
   "source": [
    "## - **Algoritmo ciclico 03.**\n",
    "\n",
    "> Leer 20 números e imprimir **cuantos son positivos**, **cuantos negativos** y **cuantos neutros**."
   ]
  },
  {
   "cell_type": "code",
   "execution_count": null,
   "metadata": {},
   "outputs": [],
   "source": [
    "posi = 0\n",
    "nega = 0\n",
    "cero = 0\n",
    "i = 0\n",
    "while i <= 20:\n",
    "    num = int(input(\"Ingrese el número: \"))\n",
    "    if num > 0:\n",
    "        posi += 1\n",
    "    elif num < 0:\n",
    "        nega += 1\n",
    "    else:\n",
    "        cero += 1\n",
    "    i = i + 1\n",
    "    \n",
    "print(f\"Positivos: {posi}\")\n",
    "print(f\"Negativos: {nega}\")\n",
    "print(f\"Ceros: {cero}\")"
   ]
  },
  {
   "cell_type": "markdown",
   "metadata": {},
   "source": [
    "## **Algoritmo ciclico 04.**\n",
    "\n",
    "> Leer 15 **números negativos** y **convertirlos a positivos** e imprimir dichos números"
   ]
  },
  {
   "cell_type": "code",
   "execution_count": null,
   "metadata": {},
   "outputs": [],
   "source": [
    "i = 0\n",
    "while i <= 15:\n",
    "    num = int(input(\"Ingrese un número: \"))\n",
    "    if num < 0:\n",
    "        print(f\"{num} fue convertido a positivo: {num * -1}\")\n",
    "    elif num == 0:\n",
    "        print(f\"{num} sigue siendo 0\") \n",
    "    else:\n",
    "        print(f\"Error. {num} no es numero negativo\")\n",
    "    i = i + 1"
   ]
  },
  {
   "cell_type": "markdown",
   "metadata": {},
   "source": [
    "## **Algoritmo ciclico 05.**\n",
    "\n",
    "> Suponga que se tiene un conjunto de notas finales de un grupo de 40 alumnos. Escribir un algoritmo para calcule el promedio de las notas y la calificación final más baja de todo el grupo."
   ]
  },
  {
   "cell_type": "code",
   "execution_count": null,
   "metadata": {},
   "outputs": [],
   "source": [
    "import random\n",
    "\n",
    "notas = []\n",
    "sNotas, nBaja = 0, 0 # Esto se llama un one-liner, se ahorran lineas y se asignas varias variables en una.\n",
    "for nota in range(40):\n",
    "    # Se generan 40 notas random, sin necesidad de poner 1 por 1. No quiero escribir 40 notas.\n",
    "    notas.append(round(random.uniform(1.0, 7.0), 1))\n",
    "\n",
    "    sNotas += notas[nota]\n",
    "    # Se busca la nota más baja y se condiciona: \"Si hay una nota igual a 1.0, entonces es la más baja\"\n",
    "    if nota == 1.0:\n",
    "        nBaja = notas[nota]\n",
    "    # Al momento de que el bucle esté recorriendo cada nota \n",
    "    # y encuentre una nota más baja a la guardada en nBaja, entonces se reemplaza.\n",
    "    elif notas[nota] < nBaja:\n",
    "        nBaja = notas[nota]\n",
    "\n",
    "if __name__ == \"__main__\":\n",
    "    print(\"Lista de notas: \",notas)\n",
    "    print(f\"El promedio de las notas es de: {round(sNotas / 40, 1)}\")\n",
    "    print(f\"La nota más baja es de: {nBaja}\")\n"
   ]
  },
  {
   "cell_type": "markdown",
   "metadata": {},
   "source": [
    "## **Algoritmo ciclico 06.**\n",
    "\n",
    "> Calcular y escribir la tabla de multiplicar de un numero cualquiera. Escribir el multiplicando, el multiplicador y el producto."
   ]
  },
  {
   "cell_type": "code",
   "execution_count": null,
   "metadata": {},
   "outputs": [],
   "source": [
    "num = int(input(\"Ingrese el numero: \"))\n",
    "for i in range(1, 11):\n",
    "    print(f\"{num} x {i} = {num * i}\")"
   ]
  },
  {
   "cell_type": "markdown",
   "metadata": {},
   "source": [
    "## **Algoritmo ciclico 07.**\n",
    "\n",
    "> Simular el comportamiento de un reloj digital, escribiendo la hora, minutos y segundos de un día desde las **0:00:00 horas** hasta las **23:59:59 horas**"
   ]
  },
  {
   "cell_type": "code",
   "execution_count": null,
   "metadata": {},
   "outputs": [],
   "source": [
    "# Entrada de datos\n",
    "hora = int(input(\"Ingrese la hora: \"))\n",
    "minutos = int(input(\"Ingrese los minutos: \"))\n",
    "segundos = int(input(\"Ingrese los segundos: \"))\n",
    "\n",
    "if hora >= 0 and hora <= 23 and minutos >= 0 and minutos <= 59 and segundos >= 0 and segundos <= 59:\n",
    "    while hora <= 23:\n",
    "        while minutos <= 59:\n",
    "            while segundos <= 59:\n",
    "                print(f\"{hora}:{minutos}:{segundos}\")\n",
    "                segundos += 1\n",
    "            segundos = 0\n",
    "            minutos += 1\n",
    "        minutos = 0\n",
    "        hora += 1"
   ]
  },
  {
   "cell_type": "markdown",
   "metadata": {},
   "source": [
    "## **Algoritmo ciclico 10.**\n",
    "\n",
    "> Una compañía de seguros tiene contratados a n vendedores. Cada uno hace tres ventas a la semana. Su política de remuneraciones es que un vendedor recibe un sueldo base, y un 10% extra por comisiones de sus ventas. El gerente de su compañía desea saber cuanto dinero obtendrá en la semana cada vendedor por concepto de comisiones por las tres ventas realizadas, y cual será su remuneración final, tomando en cuenta su sueldo base y sus comisiones."
   ]
  },
  {
   "cell_type": "code",
   "execution_count": null,
   "metadata": {},
   "outputs": [],
   "source": [
    "# Datos de entrada\n",
    "sueldo_base = int(input(\"Ingrese el sueldo base: \"))\n",
    "n = int(input(\"Ingrese la cantidad de vendedores: \"))\n",
    "vendedor = 1\n",
    "\n",
    "# Datos de salida\n",
    "if __name__ == \"__main__\":\n",
    "    while vendedor <= n:\n",
    "        print(f\"Vendedor {vendedor}\")\n",
    "        venta1 = int(input(\"Ingrese el valor de la venta 1: \"))\n",
    "        venta2 = int(input(\"Ingrese el valor de la venta 2: \"))\n",
    "        venta3 = int(input(\"Ingrese el valor de la venta 3: \"))\n",
    "        comision = (venta1 + venta2 + venta3) * 0.10\n",
    "        print(f\"La comisión es de: {comision}\")\n",
    "        print(f\"La remuneración final es de: {sueldo_base + comision}\")\n",
    "        vendedor += 1"
   ]
  },
  {
   "cell_type": "markdown",
   "metadata": {},
   "source": [
    "## **Algoritmo ciclico 11.**\n",
    "\n",
    "> Una persona desea invertir su dinero en un banco, el cual le otorga un 2% de interés. Cual será la cantidad de dinero que esta persona tendrá al cabo de un año si la ganancia de cada mes es reinvertida?."
   ]
  },
  {
   "cell_type": "code",
   "execution_count": null,
   "metadata": {},
   "outputs": [],
   "source": [
    "# Datos de entrada\n",
    "dinero = int(input(\"Ingrese la cantidad de dinero que desea invertir: \"))\n",
    "interes = 0.02\n",
    "\n",
    "# Datos de salida\n",
    "if __name__ == \"__main__\":\n",
    "    for mes in range(1, 13):\n",
    "        dinero = dinero + (dinero * interes)\n",
    "        print(f\"El dinero en el mes {mes} es de: {dinero}\")    "
   ]
  },
  {
   "cell_type": "code",
   "execution_count": null,
   "metadata": {},
   "outputs": [],
   "source": [
    "# Datos de entrada\n",
    "dinero = int(input(\"Ingrese la cantidad de dinero que desea invertir: \"))\n",
    "interes = 0.02\n",
    "mes = 0\n",
    "# Datos de salida\n",
    "if __name__ == \"__main__\":\n",
    "    while mes <= 12:\n",
    "        dinero = dinero + (dinero * interes)\n",
    "        print(f\"El dinero en el mes {mes} es de: {dinero}\") \n",
    "        mes += 1"
   ]
  },
  {
   "cell_type": "markdown",
   "metadata": {},
   "source": [
    "## **Algoritmo ciclico 12.**\n",
    "\n",
    "> Se desea obtener el promedio de **g grupos** que están en un mismo año escolar; si cada grupo puede tener **n alumnos**, cada alumno puede tener **m materias** y que en todas las materias **se promedian tres notas** para obtener el promedio de la materia. Lo que se desea desplegar es el promedio de los grupos, **el promedio de cada grupo y el promedio de cada alumno.**"
   ]
  },
  {
   "cell_type": "code",
   "execution_count": null,
   "metadata": {},
   "outputs": [],
   "source": [
    "# Datos de entrada\n",
    "g = int(input(\"Ingrese la cantidad de grupos: \"))\n",
    "n = int(input(\"Ingrese la cantidad de alumnos por grupo: \"))\n",
    "m = int(input(\"Ingrese la cantidad de materias por alumno: \"))\n",
    "\n",
    "# Datos de salida\n",
    "\n",
    "if __name__ == \"__main__\":\n",
    "    for grupo in range(1, g + 1):\n",
    "        print(f\"Grupo {grupo}\")\n",
    "        sGrupo = 0\n",
    "        for alumno in range(1, n + 1):\n",
    "            print(f\"Alumno {alumno}\")\n",
    "            sAlumno = 0\n",
    "            for materia in range(1, m + 1):\n",
    "                print(f\"Materia {materia}\")\n",
    "                nota1 = int(input(\"Ingrese la nota 1: \"))\n",
    "                nota2 = int(input(\"Ingrese la nota 2: \"))\n",
    "                nota3 = int(input(\"Ingrese la nota 3: \"))\n",
    "                promedio = (nota1 + nota2 + nota3) / 3\n",
    "                print(f\"El promedio de la materia es de: {promedio}\")\n",
    "                sAlumno += promedio\n",
    "            promedioAlumno = sAlumno / m\n",
    "            print(f\"El promedio del alumno es de: {promedioAlumno}\")\n",
    "            sGrupo += promedioAlumno\n",
    "        promedioGrupo = sGrupo / n\n",
    "        print(f\"El promedio del grupo es de: {promedioGrupo}\")\n"
   ]
  },
  {
   "cell_type": "markdown",
   "metadata": {},
   "source": [
    "## **Algoritmo ciclico de validación**"
   ]
  },
  {
   "cell_type": "code",
   "execution_count": null,
   "metadata": {},
   "outputs": [],
   "source": [
    "N_Permitidos = [\"Herbert Mayorga\",\"Juan Lopez\",\"Lucas Perez\"]\n",
    "dueno = \"Herbert Mayorga\"\n",
    "\n",
    "print(\"============================================================\")\n",
    "print(\"                   INGRESO DE USUARIO                       \")\n",
    "print(\"============================================================\")\n",
    "usuario = input(\"+ Ingrese su nombre completo para validación: \").title()\n",
    "contraseña = int(input(\"+ Ingrese su contraseña: \"))\n",
    "\n",
    "\n",
    "while usuario != N_Permitidos and contraseña != 1234:\n",
    "    print(\"Usted no pertenece a la organización.\") \n",
    "    print(\"============================================================\")\n",
    "    usuario = input(\"+ Ingrese su nombre completo para validación: \").title()\n",
    "    contraseña = int(input(\"+ Ingrese su contraseña: \"))\n",
    "\n",
    "print(\"============================================================\")\n",
    "print(\"--- Bienvenido \"+usuario+\", has entrado al panel administrativo ---\")\n",
    "print(\"============================================================\")\n",
    "\n",
    "while usuario == dueno:\n",
    "\tprint(\"--- Otorgando permisos individuales...\")\n",
    "\tbreak"
   ]
  }
 ],
 "metadata": {
  "kernelspec": {
   "display_name": "Python 3.10.5 ('Desktop')",
   "language": "python",
   "name": "python3"
  },
  "language_info": {
   "codemirror_mode": {
    "name": "ipython",
    "version": 3
   },
   "file_extension": ".py",
   "mimetype": "text/x-python",
   "name": "python",
   "nbconvert_exporter": "python",
   "pygments_lexer": "ipython3",
   "version": "3.10.5"
  },
  "orig_nbformat": 4,
  "vscode": {
   "interpreter": {
    "hash": "b449c376d2ed4599b6cc4a24eafffebbe3110cae01e24cf0785507957d41bf04"
   }
  }
 },
 "nbformat": 4,
 "nbformat_minor": 2
}
