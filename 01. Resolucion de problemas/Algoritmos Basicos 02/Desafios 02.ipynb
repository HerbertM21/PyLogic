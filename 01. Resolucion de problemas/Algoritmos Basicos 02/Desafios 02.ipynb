{
 "cells": [
  {
   "cell_type": "markdown",
   "metadata": {},
   "source": [
    "### **Posible ejercicio de prueba**\n",
    "\n",
    "Rutee el siguiente programa e indique que es lo que imprime. Cada vez que el valor de una variable cambie, ponga su valor en una nueva fila de la tabla. La tabla tiene filas de sobra.\n"
   ]
  },
  {
   "cell_type": "code",
   "execution_count": 9,
   "metadata": {},
   "outputs": [
    {
     "name": "stdout",
     "output_type": "stream",
     "text": [
      "Bucle: j = 1, c = 2, p = False\n",
      "Bucle: j = -1, c = 2, p = True\n",
      "True\n"
     ]
    }
   ],
   "source": [
    "j = 2\n",
    "c = 1\n",
    "p = True\n",
    "while j > 0: # mientras j sea mayor que 0\n",
    "    j = j - c # j es igual a j - c\n",
    "    if p: # si p es verdadero\n",
    "        c = c + 1 # c es igual a c + 1\n",
    "    p = not p # p es igual a no p\n",
    "    print(f\"Bucle: j = {j}, c = {c}, p = {p}\") # imprimimos j, c y p para ver como cambian. opcional.\n",
    "\n",
    "# Dentro del print, preguntamos si j es menor que 0 y p es verdadero, eso nos\n",
    "# devuelve un booleano, entonces se responde paso a paso: ¿j < 0? = True, \n",
    "# ¿p es verdadero? = True, ¿True and True? = True\n",
    "print(j < 0 and p) # -> True"
   ]
  },
  {
   "cell_type": "markdown",
   "metadata": {},
   "source": [
    "### **Solución**\n",
    "\n",
    "Paso a paso en el codigo.\n",
    "\n",
    "| **j**  | **c**  | **p**  |\n",
    "| ------------ | ------------ | ------------ |\n",
    "|  1  |  2  |  False  |\n",
    "|  -1  |  2  |  True  |\n"
   ]
  },
  {
   "cell_type": "markdown",
   "metadata": {},
   "source": [
    "En estadıstica descriptiva, se define el rango de un conjunto de datos reales como la diferencia entre el **mayor** y el **menor** de los datos.\n",
    "\n",
    "Por ejemplo, si los datos son: **[5,96 6,74 7,43 4,99 7,20 0,56 2,80]** entonces el rango es **7,43**\n",
    "\n",
    "Escriba un programa que: pregunte al usuario cuantos datos seran ingresados, pida al usuario ingresar los datos uno por uno, y entregue como resultado el rango de los datos. Suponga que todos los datos ingresados son validos."
   ]
  },
  {
   "cell_type": "code",
   "execution_count": 35,
   "metadata": {},
   "outputs": [
    {
     "name": "stdout",
     "output_type": "stream",
     "text": [
      "El minimo es 0 y el maximo es 7\n",
      "El rango de los datos es 7\n"
     ]
    }
   ],
   "source": [
    "# Escriba un programa que: pregunte al usuario cuantos datos seran ingresados, pida al usuario ingresar los datos uno por uno, y entregue como resultado el rango de los datos. Suponga que todos los datos ingresados son validos.\n",
    "\n",
    "# Ejemplo:\n",
    "# Cuantos datos seran ingresados? 5\n",
    "# Ingrese el dato 1: 1\n",
    "# Ingrese el dato 2: 2\n",
    "# Ingrese el dato 3: 3\n",
    "# Ingrese el dato 4: 4\n",
    "# Ingrese el dato 5: 5\n",
    "# El rango de los datos es 4\n",
    "# Sin usar max() ni min()\n",
    "\n",
    "# Solucion:\n",
    "# Ingresamos la cantidad de datos que seran ingresados\n",
    "cantidad = int(input(\"Cuantos datos seran ingresados? \"))\n",
    "lista = [] # Creamos una lista vacia\n",
    "minimo = 0\n",
    "maximo = 0\n",
    "# i = 0 hasta cantidad - 1\n",
    "for i in range(cantidad): # Creamos un bucle que se repita la cantidad de veces que se ingresaron\n",
    "    lista.append(int(input(f\"Ingrese el dato {i + 1}: \"))) # Ingresamos los datos y los agregamos a la lista\n",
    "    if maximo < lista[i]:\n",
    "        maximo = lista[i]\n",
    "    elif minimo > lista[i]: # Si el minimo es mayor que el dato ingresado\n",
    "        minimo = lista[i] # El minimo es igual al dato ingresado\n",
    "print(f\"El minimo es {minimo} y el maximo es {maximo}\")\n",
    "print(f\"El rango de los datos es {maximo - minimo}\")\n",
    "\n",
    "\n",
    "\n"
   ]
  },
  {
   "cell_type": "markdown",
   "metadata": {},
   "source": [
    "## **Posible ejercicio de prueba** 02\n",
    "\n",
    "Escriba un programa que pregunte al usuario un valor de x y una presicion p, y entregue como salida el valor aproximado de **sen(x)** obtenidos de sumar los terminos de la suma infinita de la serie de Taylor de sen(x) hasta que el valor absoluto de un termino sea menor o igual que p. Suponga que x y p son validos.\n",
    "\n",
    "**x/1! - x^3/3! + x^5/5! - x^7/7! + x^9/9! - x^11/11! + ...**\n"
   ]
  },
  {
   "cell_type": "code",
   "execution_count": null,
   "metadata": {},
   "outputs": [],
   "source": [
    "# Ejemplo:\n",
    "# Ingrese x: 1\n",
    "# Ingrese p: 0.1\n",
    "# El valor aproximado de sen(1) es 0.8414709848078965\n",
    "\n",
    "# creamos la funcion factorial no recursiva\n",
    "def factorial(n):\n",
    "    if n == 0:\n",
    "        return 1\n",
    "    else:\n",
    "        resultado = 1\n",
    "        for i in range(1, n + 1):\n",
    "            resultado = resultado * i\n",
    "        return resultado\n",
    "\n",
    "# creamos la funcion seno\n",
    "def seno(x, p): # x es el valor de x y p es la presicion\n",
    "    resultado = 0\n",
    "    termino = x\n",
    "    i = 1\n",
    "    while abs(termino) > p: # mientras el termino en valor absoluto sea mayor que p\n",
    "        resultado += termino # resultado es igual a resultado + termino\n",
    "        termino = ((-1) ** i) * (x ** (2 * i + 1)) / factorial(2 * i + 1) # termino es igual a (-1) elevado a i, x elevado a 2i + 1, todo eso dividido por factorial de 2i + 1\n",
    "        i += 1 # i es igual a i + 1\n",
    "    return resultado # retornamos el resultado\n",
    "\n",
    "# pedimos los datos al usuario\n",
    "x = float(input(\"Ingrese x: \")) # ingresamos el valor de x\n",
    "p = float(input(\"Ingrese p: \"))  # ingresamos el valor de p\n",
    "print(f\"El valor aproximado de sen({x}) es {seno(x, p)}\") # imprimimos el resultado\n",
    "\n"
   ]
  },
  {
   "cell_type": "markdown",
   "metadata": {},
   "source": [
    "## **Posible ejercicio de prueba** 03\n",
    "\n",
    "La Universidad Tropical Filomena Santa Marta ha instaurado un nuevo reglamento de evaluaciones. Todas las asignaturas deben tener tres certamenes y un examen. Las notas van entre 0 y 10, con un decimal.\n",
    "Despues de los tres certamenes, los alumnos con promedio menor que 3 reprueban y los con promedio mayor o igual que 7 aprueban. El resto va al examen, en el que deben sacarse por lo menos un 5 para aprobar.\n",
    "\n",
    "Ademas, para reducir el trabajo de los profesores, se decidio que los alumnos que se sacan menos de un 2 en los dos primeros certamenes estan automaticamente reprobados. A su vez, los que obtienen mas de un 9 en los dos primeros certamenes estan automaticamente aprobados. En ambos casos, no deben rendir el tercer certamen.\n",
    "\n",
    "**Escriba un programa que pregunte a un estudiante las notas de las evaluaciones que rindio, y le diga si esta aprobado o reprobado.**"
   ]
  },
  {
   "cell_type": "code",
   "execution_count": 39,
   "metadata": {},
   "outputs": [],
   "source": [
    "# Escriba un programa que pregunte a un estudiante las notas de las evaluaciones que rindio, y le diga si esta aprobado o reprobado.\n",
    "\n",
    "# Ejemplo:\n",
    "# Ingrese la nota de la evaluacion 1: 4\n",
    "# Ingrese la nota de la evaluacion 2: 5\n",
    "# Ingrese la nota de la evaluacion 3: 6\n",
    "# Ingrese la nota de la evaluacion 4: 7\n",
    "# Ingrese la nota de la evaluacion 5: 8\n",
    "\n",
    "# El estudiante esta aprobado\n",
    "\n",
    "# Solucion:\n",
    "# Ingresamos la cantidad de evaluaciones\n",
    "cantidad = int(input(\"Cuantas evaluaciones rindio? \"))\n",
    "suma_notas = 0\n",
    "# i = 0 hasta cantidad - 1\n",
    "for i in range(cantidad): # Creamos un bucle que se repita la cantidad de veces que se ingresaron\n",
    "    nota = int(input(f\"Ingrese la nota de la evaluacion {i + 1}: \"))\n",
    "    if 1 <= nota <= 10:\n",
    "        notas.append(nota)\n",
    "        suma_notas += nota\n",
    "    else:\n",
    "        print(\"Nota invalida\")\n",
    "        break\n",
    "\n",
    "promedio = suma_notas / cantidad # Calculamos el promedio\n",
    "\n",
    "if promedio >= 9: # Si el promedio es mayor o igual a 9\n",
    "    print(\"El estudiante esta aprobado\") # El estudiante esta aprobado\n",
    "elif promedio < 2: # Si no\n",
    "    print(\"El estudiante esta reprobado\") # El estudiante esta reprobado"
   ]
  },
  {
   "cell_type": "code",
   "execution_count": 41,
   "metadata": {},
   "outputs": [
    {
     "name": "stdout",
     "output_type": "stream",
     "text": [
      "Bucle: a = 10, c = 1, x = -1, y = 3, z = 2\n",
      "Bucle: a = 10, c = 1, x = -2, y = 2, z = 3\n",
      "-2 2 3\n"
     ]
    }
   ],
   "source": [
    "a = 10\n",
    "c = 1\n",
    "x = 0\n",
    "y = x + 1\n",
    "z = y\n",
    "while z <= y:\n",
    "    z = z + c\n",
    "    y = 2 * x + z\n",
    "    if y < 4:\n",
    "        y = y + 1\n",
    "    x = x - 1\n",
    "    print(f\"Bucle: a = {a}, c = {c}, x = {x}, y = {y}, z = {z}\")\n",
    "print(x, y, z)"
   ]
  },
  {
   "cell_type": "code",
   "execution_count": 42,
   "metadata": {},
   "outputs": [],
   "source": [
    "# El intercalao es un juego muy popular entre los ninos de la aldea de Python. \n",
    "# El juego consiste en lanzar varias veces una moneda. En cada lanzamiento el resultado puede ser cara(C) o sello(S).\n",
    "# Un jugador gana cuando durante cuatro lanzamientos consecutivos aparecen caras y sellos intercalados (es decir, ningun resultado aparece dos veces seguidas), y pierde cuando un mismo resultado aparece cuatro veces seguidas.\n",
    "# Escriba un programa que reciba como entrada los resultados de todos los lanzamientos hasta que termine el juego, y le indique al usuario si gano o perdio.\n",
    "\n",
    "# Ejemplo:\n",
    "# Ingrese el resultado del lanzamiento 1: S\n",
    "# Ingrese el resultado del lanzamiento 2: C\n",
    "# Ingrese el resultado del lanzamiento 3: C\n",
    "# Ingrese el resultado del lanzamiento 4: C\n",
    "# Ingrese el resultado del lanzamiento 5: S\n",
    "# Ingrese el resultado del lanzamiento 6: C\n",
    "# Ingrese el resultado del lanzamiento 7: S\n",
    "\n",
    "# El jugador gano\n",
    "\n",
    "# Solucion:\n",
    "# Ingresamos la cantidad de lanzamientos\n",
    "import random\n",
    "\n",
    "cantidad = int(input(\"Cuantos lanzamientos se hicieron? \"))\n",
    "resultados = [] # Creamos una lista vacia\n",
    "# i = 0 hasta cantidad - 1\n",
    "for i in range(cantidad): # Creamos un bucle que se repita la cantidad de veces que se ingresaron\n",
    "    # Crear un resultado aleatorio entre S y C (S = sol, C = cruz) para la variable resultado\n",
    "    resultado = random.choice([\"S\", \"C\"]) # Creamos una variable que guarde un resultado aleatorio entre S y C\n",
    "    if resultado == \"C\" or resultado == \"S\": # Si el resultado es C o S\n",
    "        resultados.append(resultado) # Agregamos el resultado a la lista\n",
    "        print(resultados[i]) # Imprimimos la lista\n",
    "    else:\n",
    "        print(\"Resultado invalido\")\n",
    "        break\n",
    "\n",
    "# i = 0 hasta cantidad - 4\n",
    "for i in range(cantidad - 3): # Creamos un bucle que se repita la cantidad de veces que se ingresaron - 3\n",
    "    if resultados[i] != resultados[i + 1] and resultados[i + 1] != resultados[i + 2] and resultados[i + 2] != resultados[i + 3]: # Si el resultado es diferente al siguiente y el siguiente es diferente al siguiente del siguiente y el siguiente del siguiente es diferente al siguiente del siguiente del siguiente\n",
    "        print(\"El jugador gano\") # El jugador gano\n",
    "        break\n",
    "    elif resultados[i] == resultados[i + 1] == resultados[i + 2] == resultados[i + 3]: # Si no\n",
    "        print(\"El jugador perdio\") # El jugador perdio\n",
    "        break"
   ]
  }
 ],
 "metadata": {
  "kernelspec": {
   "display_name": "Python 3.10.5 ('Desktop')",
   "language": "python",
   "name": "python3"
  },
  "language_info": {
   "codemirror_mode": {
    "name": "ipython",
    "version": 3
   },
   "file_extension": ".py",
   "mimetype": "text/x-python",
   "name": "python",
   "nbconvert_exporter": "python",
   "pygments_lexer": "ipython3",
   "version": "3.10.5"
  },
  "orig_nbformat": 4,
  "vscode": {
   "interpreter": {
    "hash": "b449c376d2ed4599b6cc4a24eafffebbe3110cae01e24cf0785507957d41bf04"
   }
  }
 },
 "nbformat": 4,
 "nbformat_minor": 2
}
