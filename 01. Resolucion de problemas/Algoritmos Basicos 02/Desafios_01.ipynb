{
 "cells": [
  {
   "cell_type": "markdown",
   "metadata": {},
   "source": [
    "# **Desafios - resolución de problemas**\n",
    "\n",
    "_______"
   ]
  },
  {
   "cell_type": "markdown",
   "metadata": {},
   "source": [
    "### **Desafío 1**\n",
    "\n",
    "Para un numero **N** menor de 100. Mostrar la suma de los cuadrados de los números que están separados entre si cuatro posiciones."
   ]
  },
  {
   "cell_type": "code",
   "execution_count": null,
   "metadata": {},
   "outputs": [],
   "source": [
    "# Variables\n",
    "N = int(input(\"Introduce un numero menor de 100: \")) \n",
    "suma = 0\n",
    "i = 0\n",
    "\n",
    "# Se usa while para repetir el proceso hasta que se cumpla la condición.\n",
    "while i < N: \n",
    "    if i % 4 == 0: # Se usa if para comprobar si el i es multiplo de 4.\n",
    "        suma += i**2 # Si es multiplo de 4 se suma el cuadrado de i a la variable suma.\n",
    "    i += 1 # Se usa += para sumar 1 a i.\n",
    "print(\"La suma de los cuadrados de los numeros que estan separados entre si, cuatro posiciones es: \", suma)\n"
   ]
  },
  {
   "cell_type": "markdown",
   "metadata": {},
   "source": [
    "### **Desafío 2**\n",
    "\n",
    "Imprimir 10 veces la serie de números de 1 a 10."
   ]
  },
  {
   "cell_type": "code",
   "execution_count": null,
   "metadata": {},
   "outputs": [],
   "source": [
    "# Imprimir 10 veces la serie de numeros del 1 al 10 sin usar bucles.\n",
    "\n",
    "N = 1, 2, 3, 4, 5, 6, 7, 8, 9, 10\n",
    "i = 0\n",
    "while i < 10:\n",
    "    print(N)\n",
    "    i += 1"
   ]
  },
  {
   "cell_type": "markdown",
   "metadata": {},
   "source": [
    "### **Desafío 3**\n",
    "\n",
    "Para un número **N** imprimir su tabla de multiplicar.\n"
   ]
  },
  {
   "cell_type": "code",
   "execution_count": null,
   "metadata": {},
   "outputs": [],
   "source": [
    "N = int(input(\"Ingrese el número para imprimir su tabla de multiplicar: \"))\n",
    "i = 1 \n",
    "\n",
    "while i <= 10: \n",
    "    print(f\"{N * i}\") # Se usa f para imprimir el resultado de la multiplicación.\n",
    "    i += 1"
   ]
  },
  {
   "cell_type": "markdown",
   "metadata": {},
   "source": [
    "### **Desafío 4**\n",
    "\n",
    "Identificar si la suma de los dígitos de un numero es **par** o **impar.**\n"
   ]
  },
  {
   "cell_type": "code",
   "execution_count": null,
   "metadata": {},
   "outputs": [],
   "source": [
    "# --- ACLARACIONES ---.\n",
    "# 1. El modulo de 10 de un numero, nos da el ultimo digito de ese numero.\n",
    "# 2. El operador de division entera // entre 10 nos da el numero sin el ultimo digito.\n",
    "# 3. El modulo de 2 de un numero nos dice si es par en el caso que sea igual a 0.\n",
    "# 4. En caso contrario, es impar.\n",
    "\n",
    "# Es complicado, se tiene que analizar como funciona el operador modulo para hacer estos ejercicios.\n",
    "\n",
    "N = int(input(\"Ingrese un número: \"))\n",
    "suma = 0\n",
    "\n",
    "while N > 0: \n",
    "    suma += N % 10 # Se usa += para sumar el resto de la división de N entre 10 a la variable suma.\n",
    "    N = N // 10 # Se usa // para dividir N entre 10 y guardar el resultado en N.\n",
    "if suma % 2 == 0: # Se usa if para comprobar si la suma es par.\n",
    "    print(\"La suma de los digitos es par\")\n",
    "else: # Se usa else para comprobar si la suma es impar.\n",
    "    print(\"La suma de los digitos es impar\")\n"
   ]
  },
  {
   "cell_type": "markdown",
   "metadata": {},
   "source": [
    "### **Desafío 5**\n",
    "\n",
    "Solicitar un número e imprimir los dígitos pares de este."
   ]
  },
  {
   "cell_type": "code",
   "execution_count": null,
   "metadata": {},
   "outputs": [],
   "source": [
    "# Solicitar un número e imprimir los dígitos pares de este.\n",
    "\n",
    "N = int(input(\"Ingrese un número: \"))\n",
    "i = 0\n",
    "\n",
    "while N > 0:\n",
    "    if (N % 10) % 2 == 0: # Se usa if para comprobar si el resto de la división de N entre 10 es par.\n",
    "        print(N % 10) # Se usa % para imprimir el resto de la división de N entre 10.\n",
    "    N = N // 10 # Se usa // para dividir N entre 10 y guardar el resultado en N.\n",
    "\n",
    "# --- ACLARACIONES ---.\n",
    "# 1. El modulo de 10 de un numero, nos da el ultimo digito de ese numero.\n",
    "# 2. El operador de division entera // entre 10 nos da el numero sin el ultimo digito.\n",
    "# 3. El modulo de 2 de un numero nos dice si es par en el caso que sea igual a 0."
   ]
  },
  {
   "cell_type": "markdown",
   "metadata": {},
   "source": [
    "### **Desafío 6**\n",
    "\n",
    "Los números de las claves de dos cajas fuertes están mezcladas en un \n",
    "número entero llamado clave maestra. \n",
    "\n",
    "Determine ambas claves, la primera clave se construye con los dígitos impares de la clave maestra y la segunda con los pares. \n",
    "\n",
    "**Ejemplo**: Clave Maestra= 12345, clave1=135, clave2=24."
   ]
  },
  {
   "cell_type": "code",
   "execution_count": null,
   "metadata": {},
   "outputs": [],
   "source": [
    "claveMaestra = input(\"Ingrese la clave maestra: \")\n",
    "clave1 = \"\"\n",
    "clave2 = \"\" \n",
    "\n",
    "i = 0\n",
    "while i < len(claveMaestra): \n",
    "    digito = int(claveMaestra[i]) # Se usa int para convertir el caracter en un numero.\n",
    "    if digito % 2 == 0: # Se usa if para comprobar si el digito es par.\n",
    "        clave2 += str(digito) # Se usa += para concatenar el digito a la variable clave2.\n",
    "    else:\n",
    "        clave1 += str(digito) # Se usa += para concatenar el digito a la variable clave1.\n",
    "    i += 1\n",
    "print(\"Clave maestra: \", claveMaestra) # Se imprime la clave maestra.\n",
    "print(\"La clave 1 es: \", clave1) # Se imprime la clave 1.\n",
    "print(\"La clave 2 es: \", clave2) # Se imprime la clave 2.\n",
    "\n",
    "# --- ACLARACIONES ---.\n",
    "# 1. En la linea de codigo: digito = int(claveMaestra[i])\n",
    "# Se accede a los caracteres de la variable claveMaestra en la posicion i.\n",
    "# Mientras que cada bucle se ejecuta, i aumenta en 1.\n",
    "# Por lo cual, cuando la i sea 1, se accede al caracter en la posicion 1 de la variable claveMaestra."
   ]
  },
  {
   "cell_type": "markdown",
   "metadata": {},
   "source": [
    "### **Desafío 6**\n",
    "\n",
    "Escribir un programa que pida (lea de teclado) dos palabras y diga si riman \n",
    "o no. \n",
    "\n",
    "• Si coinciden las tres últimas letras tiene que decir que riman.\n",
    "\n",
    "• Si coinciden sólo las dos últimas tiene que decir que riman un poco\n",
    " \n",
    "• Si no, que no riman\n",
    "\n"
   ]
  },
  {
   "cell_type": "code",
   "execution_count": 25,
   "metadata": {},
   "outputs": [
    {
     "name": "stdout",
     "output_type": "stream",
     "text": [
      "Cadabra y Palabra Riman\n"
     ]
    }
   ],
   "source": [
    "palabra1 = input(\"Ingrese la primera palabra: \")\n",
    "palabra2 = input(\"Ingrese la segunda palabra: \")\n",
    "\n",
    "if palabra1[-3:] == palabra2[-3:] and len(palabra1) and len(palabra2) > 3: # Se usa if para comprobar si las ultimas tres letras de las palabras son iguales y si las palabras tienen mas de 3 caracteres.\n",
    "    print(f\"{palabra1} y {palabra2} Riman\") # Se usa f para imprimir las palabras que riman.\n",
    "elif palabra1[-2:] == palabra2[-2:] and len(palabra1) and len(palabra2) > 2: # Se usa elif para comprobar si las ultimas dos letras de las palabras son iguales y si las palabras tienen mas de 2 caracteres.\n",
    "    print(f\"{palabra1} y {palabra2} Riman un poco\") # Se usa f para imprimir las palabras que riman un poco.\n",
    "else:\n",
    "    print(f\"{palabra1} y {palabra2} No riman\") # Se usa f para imprimir las palabras que no riman."
   ]
  },
  {
   "cell_type": "markdown",
   "metadata": {},
   "source": [
    "_____________\n",
    "> ###### - Ejercicios extraidos de Methods String 01\n",
    "> ###### - Soluciones por Herbert Mayorga.\n",
    "__________"
   ]
  }
 ],
 "metadata": {
  "kernelspec": {
   "display_name": "Python 3.10.5 ('Desktop')",
   "language": "python",
   "name": "python3"
  },
  "language_info": {
   "codemirror_mode": {
    "name": "ipython",
    "version": 3
   },
   "file_extension": ".py",
   "mimetype": "text/x-python",
   "name": "python",
   "nbconvert_exporter": "python",
   "pygments_lexer": "ipython3",
   "version": "3.10.5"
  },
  "orig_nbformat": 4,
  "vscode": {
   "interpreter": {
    "hash": "b449c376d2ed4599b6cc4a24eafffebbe3110cae01e24cf0785507957d41bf04"
   }
  }
 },
 "nbformat": 4,
 "nbformat_minor": 2
}
