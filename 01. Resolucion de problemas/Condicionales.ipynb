{
 "cells": [
  {
   "cell_type": "markdown",
   "metadata": {},
   "source": [
    "# **Algoritmos de problemas condicionales**"
   ]
  },
  {
   "cell_type": "markdown",
   "metadata": {},
   "source": [
    "## **Algoritmo condicional 01.**\n",
    "\n",
    "Escribir un algoritmo que lea **dos números** y los escriba en **forma ascendente**."
   ]
  },
  {
   "cell_type": "code",
   "execution_count": null,
   "metadata": {},
   "outputs": [],
   "source": [
    "n = int(input(\"Ingrese un numero: \"))\n",
    "m = int(input(\"Ingrese otro numero: \"))\n",
    "\n",
    "if n >= m:\n",
    "    print(f\"{m}, {n}\")\n",
    "else:\n",
    "    print(f\"{n}, {m}\")"
   ]
  },
  {
   "cell_type": "markdown",
   "metadata": {},
   "source": [
    "## **Algoritmo condicional 02.**\n",
    "\n",
    " Una persona enferma, que pesa **70 kg**, se encuentra en reposo y desea saber **cuantas calorías consume su cuerpo** durante todo el tiempo que realice una misma actividad. Las actividades que tiene permitido realizar son únicamente dormir o estar sentado en reposo. Los datos que tiene son que estando dormido consume **1.08 calorías por minuto** y estando sentado en reposo consume **1.66 calorías por minuto.**"
   ]
  },
  {
   "cell_type": "code",
   "execution_count": 9,
   "metadata": {},
   "outputs": [
    {
     "name": "stdout",
     "output_type": "stream",
     "text": [
      "Las calorias consumidas durmiendo son: 226.8\n"
     ]
    }
   ],
   "source": [
    "actividad = input(\"Ingrese la actividad que quiera realizar: \")\n",
    "tiempo = int(input(\"Ingrese el tiempo que quiera realizarla en horas: \"))\n",
    "\n",
    "if actividad == \"Dormir\":\n",
    "    print(f\"Las calorias consumidas durmiendo son: {1.08 * 70 * tiempo}\")\n",
    "elif actividad == \"Sentarse\":\n",
    "    print(f\"Las calorias consumidas sentandose son: {1.66 * 70 * tiempo}\")\n",
    "else:\n",
    "    print(\"Ingrese una actividad que tienen permitido realizar: \\n1. Dormir \\n2. Sentarse\")"
   ]
  },
  {
   "cell_type": "markdown",
   "metadata": {},
   "source": [
    "## **Algoritmo condicional 03.**\n",
    "\n",
    " Escribir un algoritmo que escriba el **nombre de un articulo**, **clave**, **precio original** y su **precio con descuento**. El descuento lo hace en base a la clave, **si la clave es 01 el descuento es del 10%** y **si la clave es 02 el descuento es del 20%** (solo existen dos claves)."
   ]
  },
  {
   "cell_type": "code",
   "execution_count": null,
   "metadata": {},
   "outputs": [],
   "source": [
    "# Escribir un algoritmo que escriba el nombre de un articulo, clave, precio original y su precio con descuento. El descuento lo hace en base a la clave, si la clave es 01 el descuento es del 10% y si la clave es 02 el descuento es del 20% (solo existen dos claves).\n",
    "\n",
    "# Path: 01. Resolucion de problemas\\Condicionales.ipynb\n",
    "articulo = input(\"Ingrese el nombre del articulo: \")\n",
    "clave = input(\"Ingrese la clave del articulo: \")\n",
    "precio = int(input(\"Ingrese el precio del articulo: \"))\n",
    "descuento = 0\n",
    "\n",
    "if clave == \"01\":\n",
    "    descuento = precio * 0.1\n",
    "elif clave == \"02\":\n",
    "    descuento = precio * 0.2\n",
    "else:\n",
    "    print(\"Ingrese una clave valida\")\n",
    "\n",
    "print(f\"El articulo {articulo} con clave {clave} tiene un precio de {precio} y un descuento de {descuento} por lo que su precio final es de {precio - descuento}\")"
   ]
  },
  {
   "cell_type": "markdown",
   "metadata": {},
   "source": [
    "## **Algoritmo condicional 04.**\n",
    "\n",
    "Hacer un algoritmo que calcule el total a pagar por la compra de camisas. Si se compran tres camisas o más se aplica un descuento del 20% sobre el total de la compra y si son menos de tres camisas un descuento del 10%"
   ]
  },
  {
   "cell_type": "code",
   "execution_count": null,
   "metadata": {},
   "outputs": [],
   "source": [
    "cesta = int(input(\"Ingrese el total de camisas para comprar: \"))\n",
    "precio = cesta * 9000\n",
    "descuento = 0\n",
    "\n",
    "if cesta >= 3:\n",
    "    descuento = precio * 0.20\n",
    "    print(f\"Al comprar más de 3 articulos, consiguió un descuento del 25%: ${precio - descuento}\")\n",
    "else:\n",
    "    descuento = precio * 0.10\n",
    "    print(f\"Al comprar menos de 3 articulos, consiguió un descuento del 10%: ${precio - descuento}\")"
   ]
  },
  {
   "cell_type": "markdown",
   "metadata": {},
   "source": [
    "## **Algoritmo condicional 05.**\n",
    "\n",
    "En un supermercado se hace una promoción, mediante la cual el cliente obtiene un descuento dependiendo de un numero que se escoge al azar. Si el numero escogido es menor que 74 el descuento es del 15% sobre el total de la compra, si es mayor o igual a 74 el descuento es del 20%. Obtener cuanto dinero se le descuenta."
   ]
  },
  {
   "cell_type": "code",
   "execution_count": null,
   "metadata": {},
   "outputs": [],
   "source": [
    "azar = int(input(\"Eliga un número al azar: \"))\n",
    "precio = int(input(\"Ingrese el precio total de sus productos: \"))\n",
    "descuento = 0\n",
    "\n",
    "if azar >= 70:\n",
    "    descuento = precio * 0.20\n",
    "    print(f\"¡Felicidades!, consiguió un descuento del 25%: ${precio - descuento}\")\n",
    "else:\n",
    "    descuento = precio * 0.15\n",
    "    print(f\"¡Felicidades!, consiguió un descuento del 15%: ${precio - descuento}\")"
   ]
  },
  {
   "cell_type": "markdown",
   "metadata": {},
   "source": [
    "## **Algoritmo condicional 06.**\n",
    "\n",
    "Una compañía de seguros esta abriendo un depto. de finanzas y estableció un programa para captar clientes, que consiste en lo siguiente: Si el monto por el que se efectúa la fianza es menor que $50 000 la cuota a pagar será por el 3% del monto, y si el monto es mayor que $50 000 la cuota a pagar será el 2% del monto. La afianzadora desea determinar cual será la cuota que debe pagar un cliente."
   ]
  },
  {
   "cell_type": "code",
   "execution_count": null,
   "metadata": {},
   "outputs": [],
   "source": [
    "monto = int(input(\"Ingrese el monto de la fianza: \"))\n",
    "cuota = 0\n",
    "\n",
    "if monto < 50000:\n",
    "    cuota = monto * 0.03\n",
    "else:\n",
    "    cuota = monto * 0.02\n",
    "\n",
    "print(f\"El monto de la fianza es de ${monto} y la cuota a pagar es de ${cuota}\")"
   ]
  },
  {
   "cell_type": "markdown",
   "metadata": {},
   "source": [
    "## **Algoritmo condicional 07.**\n",
    "\n",
    "Determinar la cantidad de dinero que recibirá un trabajador por concepto de las horas extras trabajadas en una empresa, sabiendo que cuando las horas de trabajo exceden de 40, el resto se consideran horas extras y que estas se pagan al doble de una hora normal cuando no exceden de 8; si las horas extras exceden de 8 se pagan las primeras 8 al doble de lo que se pagan las horas normales y el resto al triple."
   ]
  },
  {
   "cell_type": "code",
   "execution_count": null,
   "metadata": {},
   "outputs": [],
   "source": [
    "horas = int(input(\"Ingrese la cantidad de horas trabajadas: \"))\n",
    "valor = int(input(\"Ingrese el valor de la hora: \"))\n",
    "extra = 0\n",
    "\n",
    "if horas > 40:\n",
    "    extra = horas - 40\n",
    "    if extra <= 8:\n",
    "        print(f\"El valor de las horas extras es de ${extra * valor * 2}\")\n",
    "    else:\n",
    "        # 8 * valor * 2 = Se pagan las primeras 8 horas extras al doble\n",
    "        # + (extra - 8) = Se descuentan esas primeras 8 horas del total de horas extras\n",
    "        # porque ya fueron calculadas al doble anteriormente\n",
    "        #  (extra - 8) * valor * 3 = Se calculan las horas extras restantes al triple.\n",
    "        print(f\"El valor de las horas extras es de ${8 * valor * 2 + (extra - 8) * valor * 3}\")"
   ]
  }
 ],
 "metadata": {
  "kernelspec": {
   "display_name": "Python 3.10.5 64-bit (system)",
   "language": "python",
   "name": "python3"
  },
  "language_info": {
   "codemirror_mode": {
    "name": "ipython",
    "version": 3
   },
   "file_extension": ".py",
   "mimetype": "text/x-python",
   "name": "python",
   "nbconvert_exporter": "python",
   "pygments_lexer": "ipython3",
   "version": "3.10.5"
  },
  "orig_nbformat": 4,
  "vscode": {
   "interpreter": {
    "hash": "c295f8dd6566d12c5d40a4c94f9ee43f4fd6a6f29ca7e565402a4e7949b8db73"
   }
  }
 },
 "nbformat": 4,
 "nbformat_minor": 2
}
