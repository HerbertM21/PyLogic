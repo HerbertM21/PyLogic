{
 "cells": [
  {
   "cell_type": "markdown",
   "metadata": {},
   "source": [
    "### Algoritmo básico 01.\n",
    "Un vendedor recibe un sueldo base mas un 10% extra por comisión de sus ventas, el vendedor desea saber cuanto dinero obtendrá por concepto de comisiones por las tres ventas que realiza en el mes y el total que recibirá en el mes tomando en cuenta su sueldo base y comisiones."
   ]
  },
  {
   "cell_type": "code",
   "execution_count": 19,
   "metadata": {
    "collapsed": true
   },
   "outputs": [
    {
     "name": "stdout",
     "output_type": "stream",
     "text": [
      "Su comisiòn es de:  8500\n",
      "Su sueldo a recibir serìa de:  108500\n"
     ]
    }
   ],
   "source": [
    "\n",
    "# Author: Herbert Mayorga\n",
    "\n",
    "# Pedimos que ingrese su sueldo base\n",
    "sueldo_base = int(input(\"Ingrese su sueldo base: \"))\n",
    "\n",
    "\"\"\"Dentro de la siguiente linea, le pedimos sus 3 ventas por separado y lo multiplicamos por 0.10\n",
    " Nos piden sumar el total de las 3 ventas y multiplicar por 10% = TOTAL * 0.10\n",
    " Por lo cual, si hacemos la suma de 3 datos * 0.10, tendremos un problema, porque primero se esta multiplicando y despues sumando\n",
    " Para que logre finalizar la suma de los 3 datos y despues multiplicarlo por 0.10\n",
    " tenemos que usar la jerarquia de operaciones y encerrar esas 3 sumas en un parentesis, y python entenderá = TOTAL * 0.10\"\"\"\n",
    "\n",
    "comi_ventas = (int(input(\"Ingrese el total de su 1ra venta: \\n\")) + int(input(\"Ingrese el total de su 2da venta: \\n\")) + int(input(\"Ingrese el total de su 3ra venta: \\n\"))) * 0.10\n",
    "print(\"Su comisión es de: \", comi_ventas)\n",
    "print(\"Su sueldo a recibir serìa de: \", comi_ventas + sueldo_base)\n"
   ]
  },
  {
   "cell_type": "markdown",
   "metadata": {},
   "source": [
    "### Algoritmo básico 02.\n",
    "Una tienda ofrece un descuento del 15% sobre el total de la compra y un cliente desea saber cuanto deberá pagar finalmente por su compra"
   ]
  },
  {
   "cell_type": "code",
   "execution_count": 25,
   "metadata": {},
   "outputs": [
    {
     "name": "stdout",
     "output_type": "stream",
     "text": [
      "Valor total de los productos con un 15%: 199100198\n"
     ]
    }
   ],
   "source": [
    "total = int(input(\"Ingrese el valor total de sus productos: \"))\n",
    "descuento = int(total * 0.15)\n",
    "print(f\"Valor total de los productos con un 15%: ${total - descuento}\")"
   ]
  }
 ],
 "metadata": {
  "kernelspec": {
   "display_name": "Python 3.10.5 64-bit (system)",
   "language": "python",
   "name": "python3"
  },
  "language_info": {
   "codemirror_mode": {
    "name": "ipython",
    "version": 3
   },
   "file_extension": ".py",
   "mimetype": "text/x-python",
   "name": "python",
   "nbconvert_exporter": "python",
   "pygments_lexer": "ipython3",
   "version": "3.10.5"
  },
  "vscode": {
   "interpreter": {
    "hash": "c295f8dd6566d12c5d40a4c94f9ee43f4fd6a6f29ca7e565402a4e7949b8db73"
   }
  }
 },
 "nbformat": 4,
 "nbformat_minor": 0
}
