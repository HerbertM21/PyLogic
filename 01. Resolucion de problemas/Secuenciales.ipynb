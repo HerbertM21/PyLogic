{
 "cells": [
  {
   "cell_type": "markdown",
   "metadata": {},
   "source": [
    "# **Algoritmos de problemas secuenciales**"
   ]
  },
  {
   "cell_type": "markdown",
   "metadata": {},
   "source": [
    "## **Algoritmo básico 01.**\n",
    "Suponga que un individuo quiere invertir su capital en un banco y desea saber cuanto dinero ganará después de un mes si el banco paga a razón de **2% mensual**."
   ]
  },
  {
   "cell_type": "code",
   "execution_count": null,
   "metadata": {},
   "outputs": [],
   "source": [
    "# Manera tradicional\n",
    "cInvertir = int(input(\"Ingrese su capital: \")) * 0.02\n",
    "print(\"Su ganancia mensual es de: $\",cInvertir)"
   ]
  },
  {
   "cell_type": "code",
   "execution_count": null,
   "metadata": {},
   "outputs": [],
   "source": [
    "# Manera para evitar el gasto de memoria ram (UTIL)\n",
    "print(\"Su ganancia mensual es de: $\", int(input(\"Ingrese su capital: \")) * 0.02)"
   ]
  },
  {
   "cell_type": "markdown",
   "metadata": {},
   "source": [
    "## **Algoritmo básico 02.**\n",
    "Un vendedor recibe un sueldo base mas un **10% extra** por comisión de sus ventas, el vendedor desea saber cuanto dinero obtendrá por concepto de comisiones por las **tres ventas** que realiza en el mes y el total que recibirá en el mes tomando en cuenta su **sueldo base y comisiones**.\n"
   ]
  },
  {
   "cell_type": "code",
   "execution_count": null,
   "metadata": {
    "collapsed": true
   },
   "outputs": [],
   "source": [
    "# Autor: Herbert Mayorga\n",
    "\n",
    "# Pedimos que ingrese su sueldo base\n",
    "sueldo_base = int(input(\"Ingrese su sueldo base: \"))\n",
    "\n",
    "\"\"\"Dentro de la siguiente linea, le pedimos sus 3 ventas por separado y lo multiplicamos por 0.10\n",
    " Nos piden sumar el total de las 3 ventas y multiplicar por 10% = TOTAL * 0.10\n",
    " Por lo cual, si hacemos la suma de 3 datos * 0.10, tendremos un problema, porque primero se esta multiplicando y despues sumando\n",
    " Para que logre finalizar la suma de los 3 datos y despues multiplicarlo por 0.10\n",
    " tenemos que usar la jerarquia de operaciones y encerrar esas 3 sumas en un parentesis, y python entenderá = TOTAL * 0.10\"\"\"\n",
    "\n",
    "comi_ventas = (int(input(\"Ingrese el total de su 1ra venta: \\n\")) + int(input(\"Ingrese el total de su 2da venta: \\n\")) + int(input(\"Ingrese el total de su 3ra venta: \\n\"))) * 0.10\n",
    "print(\"Su comisión es de: \",comi_ventas)\n",
    "print(\"Su sueldo a recibir serìa de: \",comi_ventas + sueldo_base)\n"
   ]
  },
  {
   "cell_type": "markdown",
   "metadata": {},
   "source": [
    "## **Algoritmo básico 03**.\n",
    "Una tienda ofrece un descuento del **15% sobre el total de la compra** y un cliente desea saber cuanto deberá pagar finalmente por su compra"
   ]
  },
  {
   "cell_type": "code",
   "execution_count": null,
   "metadata": {},
   "outputs": [],
   "source": [
    "#Entrada de datos\n",
    "total = int(input(\"Ingrese el valor total de sus productos: \"))\n",
    "descuento = int(total * 0.15)\n",
    "#Salida de datos\n",
    "print(f\"Valor total de los productos con un 15%: ${total - descuento}\")"
   ]
  },
  {
   "cell_type": "markdown",
   "metadata": {},
   "source": [
    "## **Algoritmo básico 04.**\n",
    "\n",
    "Un alumno desea saber cual será su nota final en el curso de Introducción a la programación. Dicha nota se compone de los siguientes porcentajes:\n",
    "- **55% del promedio de sus tres notas parciales.**\n",
    "- **30% de la nota del examen final.**\n",
    "- **15% de la nota de un trabajo final**"
   ]
  },
  {
   "cell_type": "code",
   "execution_count": null,
   "metadata": {},
   "outputs": [],
   "source": [
    "# Datos de entrada\n",
    "parciales = (float(input(\"Ingrese su nota parcial n°1: \")) + float(input(\"Ingrese su nota parcial n°2: \")) + float(input(\"Ingrese su nota parcial n°3: \"))) / 3\n",
    "exaFinal = float(input(\"Ingrese su nota del examen final: \"))\n",
    "tFinal = float(input(\"Ingrese su nota del trabajo final: \")) \n",
    "\n",
    "# Datos de salida\n",
    "print(\"Su promedio final es de:\", (parciales * 0.55) + (exaFinal * 0.30) + (tFinal * 0.15))"
   ]
  },
  {
   "cell_type": "markdown",
   "metadata": {},
   "source": [
    "## **Algoritmo básico 05.**\n",
    "\n",
    "Un profesor conoce la cantidad de hombres y mujeres del curso de Algoritmos:\n",
    "- Desea saber que **porcentaje de hombres** y que **porcentaje de mujeres** hay en su grupo de estudiantes."
   ]
  },
  {
   "cell_type": "code",
   "execution_count": null,
   "metadata": {},
   "outputs": [],
   "source": [
    "# Datos de entrada\n",
    "a = int(input(\"Ingrese el total de alumnos hombres: \")) \n",
    "b = int(input(\"Ingrese el total de alumnas mujeres: \"))\n",
    "total = a + b \n",
    "print(f\"El procentaje obtenido es: \\nHombres: {(a / total) * 100}% \\nMujeres: {(b / total) * 100}%\") "
   ]
  },
  {
   "cell_type": "markdown",
   "metadata": {},
   "source": [
    "## **Algoritmo básico 06.**\n",
    "\n",
    "Dada una cantidad en pesos:\n",
    "- Obtener la equivalencia en dólares, asumiendo que la conversión de pesos si la unidad cambiaria es un dato desconocido."
   ]
  },
  {
   "cell_type": "code",
   "execution_count": null,
   "metadata": {},
   "outputs": [],
   "source": [
    "# Si la conversión es de peso a dólar hay que dividir los pesos entre lo que vale el dólar.\n",
    "# Si la conversión es de dólar a pesos hay que multiplicar lo que vale el dólar por los pesos\n",
    "\n",
    "# Datos de entrada\n",
    "pesos = float(input(\"Ingrese la cantidad de pesos: \"))\n",
    "dolar = float(input(\"Ingrese la cantidad de dólares: \"))\n",
    "# Datos de salida\n",
    "print(f\"La equivalencia de {pesos}$ pesos en dólares es de: ${pesos / dolar}\")"
   ]
  },
  {
   "cell_type": "markdown",
   "metadata": {},
   "source": [
    "## **Algoritmo básico 07.**\n",
    "\n",
    "La presión, el volumen y la temperatura de una masa de aire se relacionan por la formula:\n",
    "\n",
    "- **Formula masa =** `(presión * volumen)/(0.37 * (temperatura + 460))`\n",
    "- Escribir un algoritmo que calcule dicha fórmula"
   ]
  },
  {
   "cell_type": "code",
   "execution_count": null,
   "metadata": {},
   "outputs": [],
   "source": [
    "dPresion = float(input(\"Ingrese la presión: \"))\n",
    "dVolumen = float(input(\"Ingrese el volumen: \"))\n",
    "dTemperatura = float(input(\"Ingrese la temperatura: \"))\n",
    "print(\"La masa es de: \",(dPresion * dVolumen)/(0.37 * (dTemperatura + 460)))"
   ]
  },
  {
   "cell_type": "markdown",
   "metadata": {},
   "source": [
    "O se puede asignar la variable formula para guardar la operación, y dentro del print llamar a dicha variable."
   ]
  },
  {
   "cell_type": "code",
   "execution_count": null,
   "metadata": {},
   "outputs": [],
   "source": [
    "formula = (dPresion * dVolumen)/(0.37 * (dTemperatura + 460))\n",
    "print(\"La masa es de:\",formula)"
   ]
  },
  {
   "cell_type": "markdown",
   "metadata": {},
   "source": [
    "## **Algoritmo básico 08.**\n",
    "\n",
    "Calcular el numero de pulsaciones que una persona debe tener por cada 10 segundos de ejercicio.\n",
    "- **Formula numero de pulsaciones =**  `(220 - edad)/10`"
   ]
  },
  {
   "cell_type": "code",
   "execution_count": null,
   "metadata": {},
   "outputs": [],
   "source": [
    "Formula = (220 - int(input(\"Ingrese su edad: \"))) / 10\n",
    "print(Formula)"
   ]
  },
  {
   "cell_type": "markdown",
   "metadata": {},
   "source": [
    "## **Algoritmo básico 09.**\n",
    "\n",
    "Calcular el nuevo sueldo de un empleado si obtuvo un incremento del **25%** sobre su sueldo anterior.\n"
   ]
  },
  {
   "cell_type": "code",
   "execution_count": null,
   "metadata": {},
   "outputs": [],
   "source": [
    "# Datos de entrada\n",
    "sueldo = float(input(\"Ingrese su sueldo: \"))\n",
    "\n",
    "# Datos de salida\n",
    "if __name__ == \"__main__\":\n",
    "    print(\"Su nuevo sueldo es de: \", sueldo * 0.25)\n"
   ]
  },
  {
   "cell_type": "markdown",
   "metadata": {},
   "source": [
    "## **Algoritmo básico 10.**\n",
    "\n",
    "En un hospital existen tres áreas: Ginecología, Pediatría, Traumatología. El presupuesto anual del hospital se reparte conforme a la siguiente tabla:\n",
    "\n",
    "**Área Porcentaje del presupuesto**\n",
    "\n",
    "`+ Ginecología 40%`\n",
    "\n",
    "`+ Traumatología 30%`\n",
    "\n",
    "`+ Pediatría 30%`\n",
    "\n",
    "**Obtener la cantidad de dinero que recibirá cada área, para cualquier monto presupuestado**"
   ]
  },
  {
   "cell_type": "code",
   "execution_count": null,
   "metadata": {},
   "outputs": [],
   "source": [
    "# Entrada de datos\n",
    "presupuesto = int(input(\"Ingrese el presupuesto anual: \"))\n",
    "ginecologia = presupuesto * 0.40\n",
    "traumatologia = presupuesto * 0.30\n",
    "pediatria = presupuesto * 0.30\n",
    "\n",
    "# Entrada de salida:\n",
    "if __name__ == \"__main__\":\n",
    "    print(\"El presupuesto para ginecologia es de: \",ginecologia)\n",
    "    print(\"El presupuesto para traumatologia es de: \",traumatologia)\n",
    "    print(\"El presupuesto para pediatria es de: \",pediatria)"
   ]
  },
  {
   "cell_type": "markdown",
   "metadata": {},
   "source": [
    "## **Algoritmo básico 11.**\n",
    "\n",
    "El dueño de una tienda compra un artículo a un precio determinado. \n",
    "\n",
    "- Obtener el precio en que lo debe vender para obtener una **ganancia del 30%**."
   ]
  },
  {
   "cell_type": "code",
   "execution_count": null,
   "metadata": {},
   "outputs": [],
   "source": [
    "# Entrada de datos\n",
    "pOriginal = int(input(\"Precio original del producto: \")) #15000\n",
    "pGanancia = int(input(\"Porcentaje de ganancia: \")) / 100 #30\n",
    "\n",
    "# Salida de datos\n",
    "if __name__ == \"__main__\":\n",
    "    print(f\"El precio al que lo debería vender es de: ${pOriginal + (pOriginal * pGanancia)}\")"
   ]
  },
  {
   "cell_type": "markdown",
   "metadata": {},
   "source": [
    "## **Algoritmo básico 12.**\n",
    "\n",
    "Todos los lunes, miércoles y viernes, una persona corre la misma ruta y cronometra los tiempos obtenidos. \n",
    "\n",
    "- **Determinar el tiempo promedio que la persona tarda en recorrer la ruta en una semana cualquiera.**"
   ]
  },
  {
   "cell_type": "code",
   "execution_count": null,
   "metadata": {},
   "outputs": [],
   "source": [
    "# Datos de entrada\n",
    "lunes = int(input(\"Ingrese el tiempo que tardó en recorrer la ruta el lunes: \"))\n",
    "miercoles = int(input(\"Ingrese el tiempo que tardó en recorrer la ruta el miercoles: \"))\n",
    "viernes = int(input(\"Ingrese el tiempo que tardó en recorrer la ruta el viernes: \"))\n",
    "\n",
    "# Datos de salida\n",
    "if __name__ == \"__main__\":\n",
    "    print(\"El tiempo promedio que tarda en recorrer la ruta es de: \", (lunes + miercoles + viernes) / 3)"
   ]
  },
  {
   "cell_type": "markdown",
   "metadata": {},
   "source": [
    "## **Algoritmo básico 13.**\n",
    "\n",
    "Tres personas deciden invertir su dinero para fundar una empresa. Cada una de ellas invierte una cantidad distinta. \n",
    "\n",
    "- **Obtener el porcentaje que cada quien invierte con respecto a la cantidad total invertida.**"
   ]
  },
  {
   "cell_type": "code",
   "execution_count": null,
   "metadata": {},
   "outputs": [],
   "source": [
    "# Datos de entrada\n",
    "a = int(input(\"Ingrese la cantidad invertida por la primera persona: \"))\n",
    "b = int(input(\"Ingrese la cantidad invertida por la segunda persona: \"))\n",
    "c = int(input(\"Ingrese la cantidad invertida por la tercera persona: \"))\n",
    "\n",
    "# Datos de salida\n",
    "if __name__ == \"__main__\":\n",
    "    print(f\"El porcentaje que invirtió la primera persona es de: {(a / (a + b + c)) * 100}%\")\n",
    "    print(f\"El porcentaje que invirtió la segunda persona es de: {(b / (a + b + c)) * 100}%\")\n",
    "    print(f\"El porcentaje que invirtió la tercera persona es de: {(c / (a + b + c)) * 100}%\")"
   ]
  },
  {
   "cell_type": "markdown",
   "metadata": {},
   "source": [
    "## **Algoritmo básico 14.**\n",
    "\n",
    "Un alumno desea saber cual será su promedio general en los tres cursos más difíciles que cursa y cual será el promedio que obtendrá en cada una de ellas. Estas materias se evalúan como se muestra a continuación:\n",
    "\n",
    "La calificación de **Matemáticas** se obtiene de la siguiente manera: \n",
    "- **Examen 90%** \n",
    "- **Promedio de tareas 10%**\n",
    "- En esta materia se pidió un total de **tres tareas**.\n",
    "\n",
    "La calificación de **Física** se obtiene de la siguiente manera: \n",
    "- **Examen 80%** \n",
    "- **Promedio de tareas 20%**\n",
    "- En esta materia se pidió un total de **dos tareas**.\n",
    "\n",
    "La calificación de **Programación** se obtiene de la siguiente manera: \n",
    "- **Examen 85%** \n",
    "- **Promedio de tareas 15%**\n",
    "- En esta materia se pidió un promedio de **tres tareas**.\n"
   ]
  },
  {
   "cell_type": "code",
   "execution_count": null,
   "metadata": {},
   "outputs": [],
   "source": [
    "# Matematicas\n",
    "matematicas_tarea1 = float(input(\"Ingrese la nota de la tarea 1: \"))\n",
    "matematicas_tarea2 = float(input(\"Ingrese la nota de la tarea 2: \"))\n",
    "matematicas_tarea3 = float(input(\"Ingrese la nota de la tarea 3: \"))\n",
    "matematicas_promedio_tareas = (matematicas_tarea1 + matematicas_tarea2 + matematicas_tarea3) / 3\n",
    "matematicas_examen = float(input(\"Ingrese la nota del examen: \"))\n",
    "matematicas_promedio = (matematicas_promedio_tareas * 0.15) + (matematicas_examen * 0.9)\n",
    "\n",
    "# Fisica\n",
    "fisica_tarea1 = float(input(\"Ingrese la nota de la tarea 1: \"))\n",
    "fisica_tarea2 = float(input(\"Ingrese la nota de la tarea 2: \"))\n",
    "fisica_promedio_tareas = (fisica_tarea1 + fisica_tarea2) / 2\n",
    "fisica_examen = float(input(\"Ingrese la nota del examen: \"))\n",
    "fisica_promedio = (fisica_promedio_tareas * 0.20) + (fisica_examen * 0.8)\n",
    "\n",
    "# Programacion\n",
    "programacion_tarea1 = float(input(\"Ingrese la nota de la tarea 1: \"))\n",
    "programacion_tarea2 = float(input(\"Ingrese la nota de la tarea 2: \"))\n",
    "programacion_tarea3 = float(input(\"Ingrese la nota de la tarea 3: \"))\n",
    "programacion_promedio_tareas = (programacion_tarea1 + programacion_tarea2 + programacion_tarea3) / 3\n",
    "programacion_examen = float(input(\"Ingrese la nota del examen: \"))\n",
    "programacion_promedio = (programacion_promedio_tareas * 0.15) + (programacion_examen * 0.85)\n",
    "\n",
    "# Promedio general\n",
    "promedio_general = (matematicas_promedio + fisica_promedio + programacion_promedio) / 3\n",
    "\n",
    "if __name__ == \"__main__\":\n",
    "    print(f\"Promedio matematicas: {matematicas_promedio}\")\n",
    "    print(f\"Promedio fisica: {fisica_promedio}\")\n",
    "    print(f\"Promedio programación: {programacion_promedio}\")\n",
    "    print(f\"Promedio matematicas: {promedio_general}\")"
   ]
  }
 ],
 "metadata": {
  "kernelspec": {
   "display_name": "Python 3 (ipykernel)",
   "language": "python",
   "name": "python3"
  },
  "language_info": {
   "codemirror_mode": {
    "name": "ipython",
    "version": 3
   },
   "file_extension": ".py",
   "mimetype": "text/x-python",
   "name": "python",
   "nbconvert_exporter": "python",
   "pygments_lexer": "ipython3",
   "version": "3.10.5"
  },
  "vscode": {
   "interpreter": {
    "hash": "c295f8dd6566d12c5d40a4c94f9ee43f4fd6a6f29ca7e565402a4e7949b8db73"
   }
  }
 },
 "nbformat": 4,
 "nbformat_minor": 1
}
