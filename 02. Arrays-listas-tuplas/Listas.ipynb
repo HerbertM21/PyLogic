{
 "cells": [
  {
   "cell_type": "code",
   "execution_count": null,
   "metadata": {},
   "outputs": [],
   "source": []
  }
 ],
 "metadata": {
  "kernelspec": {
   "display_name": "Python 3.10.5 64-bit (system)",
   "language": "python",
   "name": "python3"
  },
  "language_info": {
   "name": "python",
   "version": "3.10.5"
  },
  "orig_nbformat": 4,
  "vscode": {
   "interpreter": {
    "hash": "c295f8dd6566d12c5d40a4c94f9ee43f4fd6a6f29ca7e565402a4e7949b8db73"
   }
  }
 },
 "nbformat": 4,
 "nbformat_minor": 2
}
