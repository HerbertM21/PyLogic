{
 "cells": [
  {
   "cell_type": "markdown",
   "metadata": {},
   "source": [
    "## **Algoritmo anidado 01.** **(TRIANGULOS)**\n",
    "\n",
    "> Escribir un programa que pida al usuario un número entero y muestre por pantalla un triángulo rectángulo como el de más abajo, de altura el número introducido."
   ]
  },
  {
   "cell_type": "code",
   "execution_count": 61,
   "metadata": {},
   "outputs": [],
   "source": [
    "filas = 5 # Filas\n",
    "for i in range(filas): # Bucle externo (filas) \n",
    "    for j in range(i+1): # Bucle interno (columnas)\n",
    "        print(\"*\", end=\"\") # Imprime el caracter * sin salto de linea\n",
    "    print(\"\") # Salto de linea  "
   ]
  },
  {
   "cell_type": "markdown",
   "metadata": {},
   "source": [
    "> Triángulo rectángulo al revés"
   ]
  },
  {
   "cell_type": "code",
   "execution_count": 58,
   "metadata": {},
   "outputs": [
    {
     "name": "stdout",
     "output_type": "stream",
     "text": [
      "*****\n",
      "****\n",
      "***\n",
      "**\n",
      "*\n",
      "\n"
     ]
    }
   ],
   "source": [
    "i = 5 # Filas\n",
    "for i in range(filas, -1, -1): # Bucle externo (filas)\n",
    "    for j in range(i): # Bucle interno (columnas)\n",
    "        print(\"*\", end=\"\") # Imprime el caracter * sin salto de linea\n",
    "    print(\"\") # Salto de linea\n"
   ]
  },
  {
   "cell_type": "markdown",
   "metadata": {},
   "source": [
    "## **Algoritmo anidado 02.** **(TRIANGULOS)**\n",
    "\n",
    "> Escribir un programa que pida al usuario un número entero y muestre por pantalla una piramide como el de más abajo, de altura el número introducido."
   ]
  },
  {
   "cell_type": "code",
   "execution_count": 55,
   "metadata": {},
   "outputs": [
    {
     "name": "stdout",
     "output_type": "stream",
     "text": [
      "*********\n",
      " *******\n",
      "  *****\n",
      "   ***\n",
      "    *\n"
     ]
    }
   ],
   "source": [
    "n = int(input(\"Introduce la altura del triángulo (entero positivo): \"))\n",
    "for i in range(n-1, -1, -1):\n",
    "    print(\" \"*(n-i-1), end=\"\")\n",
    "    print(\"*\"*(2*i+1))\n"
   ]
  },
  {
   "cell_type": "code",
   "execution_count": null,
   "metadata": {},
   "outputs": [],
   "source": [
    "edad = 10\n",
    "i = 0\n",
    "\n",
    "while i < edad:\n",
    "    if i != edad-1:\n",
    "        print(f\"Tuviste: {i+1} años de edad.\")\n",
    "    else:\n",
    "        print(f\"Ahora tienes {edad} años de edad.\")\n",
    "    i += 1"
   ]
  },
  {
   "cell_type": "markdown",
   "metadata": {},
   "source": []
  },
  {
   "cell_type": "code",
   "execution_count": 70,
   "metadata": {},
   "outputs": [
    {
     "name": "stdout",
     "output_type": "stream",
     "text": [
      "[11, 14, 17]\n"
     ]
    }
   ],
   "source": [
    "result = [v + 10 for v in (1, 4, 7, 11, 17) if v < 10]\n",
    "print(result)"
   ]
  }
 ],
 "metadata": {
  "kernelspec": {
   "display_name": "Python 3.10.5 ('Desktop')",
   "language": "python",
   "name": "python3"
  },
  "language_info": {
   "codemirror_mode": {
    "name": "ipython",
    "version": 3
   },
   "file_extension": ".py",
   "mimetype": "text/x-python",
   "name": "python",
   "nbconvert_exporter": "python",
   "pygments_lexer": "ipython3",
   "version": "3.10.5"
  },
  "orig_nbformat": 4,
  "vscode": {
   "interpreter": {
    "hash": "b449c376d2ed4599b6cc4a24eafffebbe3110cae01e24cf0785507957d41bf04"
   }
  }
 },
 "nbformat": 4,
 "nbformat_minor": 2
}
