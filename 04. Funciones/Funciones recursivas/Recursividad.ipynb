{
 "cells": [
  {
   "cell_type": "code",
   "execution_count": 17,
   "metadata": {},
   "outputs": [
    {
     "name": "stdout",
     "output_type": "stream",
     "text": [
      "[9, 1, 2, 7, 7, 65, 5, 2]\n"
     ]
    }
   ],
   "source": [
    "def OrdenamientoRecursivo(lista):\n",
    "    if len(lista) == 1: # Caso base\n",
    "        return lista\n",
    "    else: # Caso recursivo sin usar min()\n",
    "        return OrdenamientoRecursivo(lista[1:]) + [lista[0]] \n",
    "\n",
    "# EXPLICACION DE LA FUNCIONA OrdenamientoRecursivo(lista)\n",
    "# 1. El caso base es cuando la lista tiene un solo elemento, devuelve la lista\n",
    "# 2. El caso recursivo es cuando la lista tiene mas de un elemento, entonces se llama a la funcion OrdenamientoRecursivo(lista[1:]) + [lista[0]]\n",
    "# 3. Ejemplo: Lista = [3, 2, 1]\n",
    "# 3.1. OrdenamientoRecursivo([2, 1]) + [3]\n",
    "# 3.2. OrdenamientoRecursivo([1]) + [2] + [3]\n",
    "# 3.3. [1] + [2] + [3]\n",
    "# 3.4. [1, 2, 3]\n",
    "# 4. El resultado es [1, 2, 3]\n",
    "\n",
    "Lista = [2, 5, 65, 7, 7, 2, 1, 9]\n",
    "print(OrdenamientoRecursivo(Lista))\n",
    "    "
   ]
  },
  {
   "cell_type": "code",
   "execution_count": 18,
   "metadata": {},
   "outputs": [
    {
     "name": "stdout",
     "output_type": "stream",
     "text": [
      "15\n"
     ]
    }
   ],
   "source": [
    "#  Escribir una función recursiva que devuelva la suma de los primeros N enteros\n",
    "\n",
    "def SumaNumeros(n):\n",
    "    if n == 1:\n",
    "        return 1\n",
    "    else:\n",
    "        return n + SumaNumeros(n-1)\n",
    "    \n",
    "print(SumaNumeros(5))\n",
    "\n",
    "# EXPLICACION RECURSIVIDAD DE LA FUNCION SumaNumeros(n)\n",
    "# 1. El caso base es cuando n es igual a 1, entonces devuelve 1\n",
    "# 2. El caso recursivo es cuando n es mayor a 1, entonces se llama a la funcion n + SumaNumeros(n-1)\n",
    "# 3. Ejemplo: n = 5\n",
    "# 3.1. 5 + SumaNumeros(4)\n",
    "# 3.2. 5 + 4 + SumaNumeros(3)\n",
    "# 3.3. 5 + 4 + 3 + SumaNumeros(2)\n",
    "# 3.4. 5 + 4 + 3 + 2 + SumaNumeros(1)\n",
    "# 3.5. 5 + 4 + 3 + 2 + 1 # Caso base\n",
    "# 4. El resultado es 15"
   ]
  },
  {
   "cell_type": "code",
   "execution_count": 28,
   "metadata": {},
   "outputs": [
    {
     "name": "stdout",
     "output_type": "stream",
     "text": [
      "True\n"
     ]
    }
   ],
   "source": [
    "#Implemente una función recursiva que determine si un string es palíndromo.\n",
    "\n",
    "def Palindromo(string):\n",
    "    if len(string) == 1:\n",
    "        return True\n",
    "    else:\n",
    "        if string[0] == string[-1]:\n",
    "            return Palindromo(string[1:-1])\n",
    "        else:\n",
    "            return False\n",
    "        \n",
    "print(Palindromo(\"bob\"))\n",
    "\n",
    "# EXPLICACION RECURSIVIDAD DE LA FUNCION Palindromo(string)\n",
    "# 1. El caso base es cuando el string tiene un solo caracter, entonces devuelve True\n",
    "# 2. El caso recursivo es cuando el string tiene mas de un caracter, entonces se llama a la funcion Palindromo(string[1:-1])\n",
    "# 3. Ejemplo: string = \"bob\" \n",
    "# 3.1. Palindromo(\"ob\") # string[0] == string[-1]\n",
    "# 3.2. Palindromo(\"b\") # string[0] == string[-1]\n",
    "# 3.3. True # Caso base \n"
   ]
  }
 ],
 "metadata": {
  "kernelspec": {
   "display_name": "Python 3.10.5 64-bit",
   "language": "python",
   "name": "python3"
  },
  "language_info": {
   "codemirror_mode": {
    "name": "ipython",
    "version": 3
   },
   "file_extension": ".py",
   "mimetype": "text/x-python",
   "name": "python",
   "nbconvert_exporter": "python",
   "pygments_lexer": "ipython3",
   "version": "3.10.5"
  },
  "orig_nbformat": 4,
  "vscode": {
   "interpreter": {
    "hash": "c295f8dd6566d12c5d40a4c94f9ee43f4fd6a6f29ca7e565402a4e7949b8db73"
   }
  }
 },
 "nbformat": 4,
 "nbformat_minor": 2
}
