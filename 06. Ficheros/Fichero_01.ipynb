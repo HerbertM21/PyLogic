{
 "cells": [
  {
   "cell_type": "markdown",
   "metadata": {},
   "source": [
    "# **Uso de ficheros - parte 1**\n",
    "_____________"
   ]
  },
  {
   "cell_type": "markdown",
   "metadata": {},
   "source": [
    "## **Apertura de ficheros**.\n",
    "\n",
    "La función `open` es la función que se utiliza para abrir un fichero. Esta función tiene dos parámetros obligatorios:\n",
    "\n",
    "* `nombre_fichero`: es el nombre del fichero que se va a abrir.\n",
    "* `modo`: es el modo en el que se va a abrir el fichero. Los modos más comunes son:\n",
    "\n",
    "| Modo | Descripción |\n",
    "|:----:|:-----------:|\n",
    "| `r` | Abre el fichero en modo lectura. **Si el fichero no existe, lanza una excepción.** |\n",
    "| `w` | Abre el fichero en modo escritura. **Si el fichero no existe, lo crea. Si existe, lo sobreescribe.** |\n",
    "| `a` | Abre el fichero en modo escritura. **Si el fichero no existe, lo crea. Si existe, añade el contenido al final del fichero.** |\n",
    "| `x` | Abre el fichero en modo escritura. **Si el fichero no existe, lo crea. Si existe, lanza una excepción.** |\n",
    "| `r+` | Abre el fichero en modo lectura y escritura. **Si el fichero no existe, lanza una excepción.** |\n",
    "| `w+` | Abre el fichero en modo lectura y escritura. **Si el fichero no existe, lo crea. Si existe, lo sobreescribe.** |\n",
    "| `a+` | Abre el fichero en modo lectura y escritura. **Si el fichero no existe, lo crea. Si existe, añade el contenido al final del fichero.** |\n",
    "| `x+` | Abre el fichero en modo lectura y escritura. **Si el fichero no existe, lo crea. Si existe, lanza una excepción.** |\n",
    "\n",
    "La función `open` devuelve un objeto de tipo `file` que representa el fichero que se ha abierto. Este objeto se utiliza para realizar las operaciones de lectura y escritura sobre el fichero."
   ]
  },
  {
   "cell_type": "markdown",
   "metadata": {},
   "source": [
    "### > **Lectura de ficheros**.\n",
    "\n",
    "Por ejemplo, para leer el fichero `texto.txt` usamos:\n",
    "\n",
    "> Si el fichero no existe, **Python nos dará un error**."
   ]
  },
  {
   "cell_type": "code",
   "execution_count": null,
   "metadata": {},
   "outputs": [],
   "source": [
    "f = open('06. Ficheros/texto.txt', 'r') # Se abre el fichero en modo lectura.\n",
    "print(f.read()) # Se lee el fichero.\n",
    "f.close() # Se cierra el fichero."
   ]
  },
  {
   "cell_type": "markdown",
   "metadata": {},
   "source": [
    "\n",
    "### > **Escritura de ficheros**.\n",
    "\n",
    "Para escribir en un fichero usamos el modo `w`:\n",
    "\n",
    "> Si el fichero no existe, **Python lo creará**. Si el fichero existe, Python lo sobreescribirá.\n",
    "\n",
    "    "
   ]
  },
  {
   "cell_type": "code",
   "execution_count": null,
   "metadata": {},
   "outputs": [],
   "source": [
    "f = open('06. Ficheros/texto.txt', 'w') # Se abre el fichero en modo escritura.\n",
    "f.write('Hola mundo') # Se escribe en el fichero.\n",
    "f.close() # Se cierra el fichero."
   ]
  },
  {
   "cell_type": "markdown",
   "metadata": {},
   "source": [
    "### > **Añadir a un fichero**.\n",
    "\n",
    "Para añadir contenido a un fichero usamos el modo `a`:\n",
    "\n",
    "> Si el fichero no existe, **Python lo creará**. Si el fichero existe, Python añadirá el contenido al final del fichero."
   ]
  },
  {
   "cell_type": "code",
   "execution_count": null,
   "metadata": {},
   "outputs": [],
   "source": [
    "f = open('test.txt', 'a') # Se abre el fichero en modo añadir.\n",
    "f.write('Hola mundo') # Se añade el texto al final del fichero.\n",
    "f.close() # Se cierra el fichero."
   ]
  },
  {
   "cell_type": "markdown",
   "metadata": {},
   "source": [
    "### > **Lectura y escritura**.\n",
    "\n",
    "Para leer y escribir en un fichero usamos el modo `r+`:\n",
    "\n",
    "> Si el fichero no existe, **Python nos dará un error**.\n"
   ]
  },
  {
   "cell_type": "code",
   "execution_count": null,
   "metadata": {},
   "outputs": [],
   "source": [
    "f = open('test.txt', 'r+') # Se abre el fichero en modo lectura y escritura.\n",
    "f.write('Hola mundo') # Se escribe en el fichero.\n",
    "print(f.read()) # Se lee el fichero.\n",
    "f.close() # Se cierra el fichero."
   ]
  },
  {
   "cell_type": "markdown",
   "metadata": {},
   "source": [
    "---"
   ]
  },
  {
   "cell_type": "markdown",
   "metadata": {},
   "source": [
    "# **Cierre de ficheros**.\n",
    "\n",
    "Como bien se ha visto anteriormente, el modo de cierre de un fichero es indispensable para liberar recursos, y para hacerlo debemos utilizar `close()` despues de abrir el fichero y realizar las acciones respectivas.\n",
    "\n",
    "### > **Cierre de ficheros automatico**.\n",
    "\n",
    "Python nos permite abrir un fichero de forma automatica, sin necesidad de cerrarlo, para ello debemos usar la sentencia `with`:\n",
    "\n",
    "> Si el fichero no existe, **Python nos dará un error**.\n"
   ]
  },
  {
   "cell_type": "code",
   "execution_count": null,
   "metadata": {},
   "outputs": [],
   "source": [
    "# Se usa with para abrir el fichero y cerrarlo automáticamente.\n",
    "with open('test.txt', 'r') as f: # Se abre el fichero en modo lectura.\n",
    "    print(f.read()) # Se lee el fichero."
   ]
  },
  {
   "cell_type": "markdown",
   "metadata": {},
   "source": [
    "la palabra **\"as\"** tiene la misma función de asignar el valor a una variable.\n",
    "\n",
    "> `as f` es equivalente a `f = open(\"texto.txt\", \"r\")`\n"
   ]
  }
 ],
 "metadata": {
  "kernelspec": {
   "display_name": "Python 3.10.5 ('Desktop')",
   "language": "python",
   "name": "python3"
  },
  "language_info": {
   "codemirror_mode": {
    "name": "ipython",
    "version": 3
   },
   "file_extension": ".py",
   "mimetype": "text/x-python",
   "name": "python",
   "nbconvert_exporter": "python",
   "pygments_lexer": "ipython3",
   "version": "3.10.5"
  },
  "orig_nbformat": 4,
  "vscode": {
   "interpreter": {
    "hash": "b449c376d2ed4599b6cc4a24eafffebbe3110cae01e24cf0785507957d41bf04"
   }
  }
 },
 "nbformat": 4,
 "nbformat_minor": 2
}
