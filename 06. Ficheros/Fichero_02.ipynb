{
 "cells": [
  {
   "cell_type": "markdown",
   "metadata": {},
   "source": [
    "# **Uso de ficheros - parte 2**\n",
    "_____________"
   ]
  },
  {
   "cell_type": "markdown",
   "metadata": {},
   "source": [
    "## **Funciones de ficheros**\n",
    "\n",
    "Vamos a explicar y utilizar las **funciones prinicipales para trabajar con ficheros**, anteriormente hemos visto la **apertura** y **cierre de un fichero**, además de una forma mas eficiente de escribir el codigo, gracias a la sentencia **with**. \n",
    "\n",
    "\n",
    ">Ahora profundizaremos las funciones para poder realizar operaciones con los ficheros, como por ejemplo **leer, escribir, añadir, etc**. \n",
    "\n",
    "\n",
    "\n",
    "###  **Lectura de ficheros**\n",
    "\n",
    "#### > **Función `read`**\n",
    "\n",
    "La función `read` es la función que se utiliza para leer el contenido de un fichero. Esta función tiene un parámetro opcional:\n",
    "\n",
    "* `n`: es el número de caracteres que se van a leer del fichero. Si no se especifica, se leerá todo el contenido del fichero.\n",
    "\n",
    "La función `read` devuelve una cadena con el contenido leído del fichero.\n",
    "\n"
   ]
  },
  {
   "cell_type": "code",
   "execution_count": null,
   "metadata": {},
   "outputs": [],
   "source": [
    "with open('06. Ficheros/texto.txt', 'r') as f: # Se abre el fichero en modo lectura.\n",
    "    print(f.read(5)) # Se leen 5 caracteres del fichero."
   ]
  },
  {
   "cell_type": "code",
   "execution_count": null,
   "metadata": {},
   "outputs": [],
   "source": [
    "with open('06. Ficheros/texto.txt', 'r') as f: # Se abre el fichero en modo lectura.\n",
    "    print(f.read()) # Se lee todo el contenido del fichero."
   ]
  },
  {
   "cell_type": "markdown",
   "metadata": {},
   "source": [
    "#### > **Función `readline`**\n",
    "\n",
    "La función `readline` es la función que se utiliza para leer una línea del fichero. Esta función no tiene parámetros. La función `readline` devuelve una cadena con la línea leída del fichero."
   ]
  },
  {
   "cell_type": "code",
   "execution_count": null,
   "metadata": {},
   "outputs": [],
   "source": [
    "with open('06. Ficheros/texto.txt', 'r') as f: # Se abre el fichero en modo lectura.\n",
    "    print(f.readline()) # Se lee una línea del fichero.\n",
    "    print(f.readline()) # Se lee la siguiente línea del fichero."
   ]
  },
  {
   "cell_type": "markdown",
   "metadata": {},
   "source": [
    "#### > **Función `readlines`**\n",
    "\n",
    "La función `readlines` es la función que se utiliza para leer todas las líneas del fichero. Esta función no tiene parámetros. La función `readlines` devuelve una lista con todas las líneas leídas del fichero."
   ]
  },
  {
   "cell_type": "code",
   "execution_count": null,
   "metadata": {},
   "outputs": [],
   "source": [
    "with open('06. Ficheros/texto.txt', 'r') as f: # Se abre el fichero en modo lectura.\n",
    "    print(f.readlines()) # Se lee todo el contenido del fichero.\n",
    "    # Devolverá una lista con todas las líneas del fichero."
   ]
  },
  {
   "cell_type": "markdown",
   "metadata": {},
   "source": [
    "_____________"
   ]
  },
  {
   "cell_type": "markdown",
   "metadata": {},
   "source": [
    "### **Escritura de ficheros**\n",
    "\n",
    "#### > **Función `write`**\n",
    "\n",
    "La función `write` es la función que se utiliza para escribir contenido en un fichero. Esta función tiene un parámetro obligatorio:\n",
    "\n",
    "* `cadena`: es la cadena que se va a escribir en el fichero.\n",
    "\n",
    "La función `write` devuelve el número de caracteres escritos en el fichero."
   ]
  },
  {
   "cell_type": "code",
   "execution_count": null,
   "metadata": {},
   "outputs": [],
   "source": [
    "with open('06. Ficheros/texto.txt', 'w') as f: # Se abre el fichero en modo escritura.\n",
    "    f.write(\"Hola mundo\") # Se escribe en el fichero."
   ]
  },
  {
   "cell_type": "markdown",
   "metadata": {},
   "source": [
    "#### > **Función `writelines`**\n",
    "\n",
    "La función `writelines` es la función que se utiliza para escribir una lista de cadenas en un fichero. Esta función tiene un parámetro obligatorio:\n",
    "\n",
    "* `lista`: es la lista de cadenas que se van a escribir en el fichero.\n",
    "\n",
    "La función `writelines` no devuelve ningún valor."
   ]
  },
  {
   "cell_type": "code",
   "execution_count": null,
   "metadata": {},
   "outputs": [],
   "source": [
    "with open('06. Ficheros/texto.txt', 'w') as f: # Se abre el fichero en modo escritura.\n",
    "    f.writelines([\"Hola mundo    \", \"Hola mundo2   \", \"Hola mundo3   \"]) # Se escribe en el fichero."
   ]
  },
  {
   "cell_type": "markdown",
   "metadata": {},
   "source": [
    "_____________"
   ]
  },
  {
   "cell_type": "markdown",
   "metadata": {},
   "source": [
    "### **Funciones varias**\n",
    "\n",
    "#### > **Función `seek`**\n",
    "\n",
    "La función `seek` es la función que se utiliza para posicionar el puntero de lectura/escritura en un fichero. Esta función tiene un parámetro obligatorio:\n",
    "\n",
    "* `posicion`: es la posición a la que se va a posicionar el puntero de lectura/escritura.\n",
    "\n",
    "La función `seek` no devuelve ningún valor."
   ]
  },
  {
   "cell_type": "code",
   "execution_count": null,
   "metadata": {},
   "outputs": [],
   "source": [
    "with open('06. Ficheros/texto.txt', 'r') as f: # Se abre el fichero en modo lectura.\n",
    "    print(f.read(5)) # Se leen 5 caracteres del fichero.\n",
    "    f.seek(2) # Se mueve el puntero al principio del fichero.\n",
    "    print(f.read(5)) # Se leen 5 caracteres del fichero."
   ]
  },
  {
   "cell_type": "markdown",
   "metadata": {},
   "source": [
    "#### > **Función `tell`**\n",
    "\n",
    "La función `tell` es la función que se utiliza para obtener la posición actual del puntero de lectura/escritura en un fichero. Esta función no tiene parámetros. \n",
    "\n",
    "- La función `tell` devuelve la posición actual del puntero de lectura/escritura."
   ]
  },
  {
   "cell_type": "code",
   "execution_count": null,
   "metadata": {},
   "outputs": [],
   "source": [
    "with open('06. Ficheros/texto.txt', 'r') as f: # Se abre el fichero en modo lectura.\n",
    "    print(f.read(5)) # Se leen 5 caracteres del fichero.\n",
    "    print(f.tell()) # Se muestra la posición del puntero."
   ]
  },
  {
   "cell_type": "markdown",
   "metadata": {},
   "source": [
    "Esto también se puede usar junto con seek."
   ]
  },
  {
   "cell_type": "code",
   "execution_count": null,
   "metadata": {},
   "outputs": [],
   "source": [
    "with open('06. Ficheros/texto.txt', 'r') as f: # Se abre el fichero en modo lectura.\n",
    "    print(f.read(5)) # Se leen 5 caracteres del fichero.\n",
    "    print(f.tell()) # Se muestra la posición del puntero.\n",
    "    f.seek(2) # Se mueve el puntero al principio del fichero."
   ]
  },
  {
   "cell_type": "markdown",
   "metadata": {},
   "source": [
    "#### > **Función `truncate`**\n",
    "\n",
    "La función `truncate` es la función que se utiliza para truncar un fichero. Esta función tiene un parámetro obligatorio:\n",
    "\n",
    "* `n`: es el número de caracteres que se van a mantener en el fichero. Si el fichero tiene menos caracteres, no se hace nada.\n",
    "\n",
    "La función `truncate` no devuelve ningún valor."
   ]
  },
  {
   "cell_type": "code",
   "execution_count": null,
   "metadata": {},
   "outputs": [],
   "source": [
    "with open('06. Ficheros/texto.txt', 'r+') as f: # Se abre el fichero en modo lectura y escritura.\n",
    "    print(f.read(5)) # Se leen 5 caracteres del fichero.\n",
    "    f.truncate(2) # Se trunca el fichero a 2 caracteres."
   ]
  },
  {
   "cell_type": "markdown",
   "metadata": {},
   "source": [
    "#### > **Función `flush`**\n",
    "\n",
    "La función `flush` es la función que se utiliza para vaciar el buffer de escritura de un fichero. Esta función no tiene parámetros. La función `flush` no devuelve ningún valor."
   ]
  },
  {
   "cell_type": "code",
   "execution_count": null,
   "metadata": {},
   "outputs": [],
   "source": [
    "# funcion flush\n",
    "\n",
    "with open('06. Ficheros/texto.txt', 'r+') as f: # Se abre el fichero en modo lectura y escritura.\n",
    "    print(f.read(5)) # Se leen 5 caracteres del fichero.\n",
    "    f.flush() # Se vacía el buffer de escritura."
   ]
  }
 ],
 "metadata": {
  "kernelspec": {
   "display_name": "Python 3.10.5 ('Desktop')",
   "language": "python",
   "name": "python3"
  },
  "language_info": {
   "name": "python",
   "version": "3.10.5"
  },
  "orig_nbformat": 4,
  "vscode": {
   "interpreter": {
    "hash": "b449c376d2ed4599b6cc4a24eafffebbe3110cae01e24cf0785507957d41bf04"
   }
  }
 },
 "nbformat": 4,
 "nbformat_minor": 2
}
